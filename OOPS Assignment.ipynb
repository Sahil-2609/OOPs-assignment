{
 "cells": [
  {
   "cell_type": "markdown",
   "id": "9558b229-3d82-4099-8147-2016987172de",
   "metadata": {},
   "source": [
    "## 1. Key Concepts of Object-Oriented Programming (OOP)"
   ]
  },
  {
   "cell_type": "raw",
   "id": "d0d5893a-7edf-46ee-8fab-1ba90fb0e9cc",
   "metadata": {},
   "source": [
    ". Encapsulation: Bundling data and methods that operate on that data within a single unit (class).\n",
    ". Abstraction: Hiding complex implementation details and exposing only the necessary features of an object.\n",
    ". Inheritance: Creating new classes that inherit attributes and methods from existing classes.\n",
    ". Polymorphism: Allowing objects of different classes to be treated as objects of a common superclass, enabling         methods to work with objects of various types.\n",
    ". Classes and Objects: Classes are blueprints for creating objects (instances), which are specific implementations of   a class."
   ]
  },
  {
   "cell_type": "markdown",
   "id": "044e5cc2-9893-4fe6-9930-1e5997b0dba8",
   "metadata": {},
   "source": [
    "## 2. Python Class for Car"
   ]
  },
  {
   "cell_type": "code",
   "execution_count": null,
   "id": "3f318005-c4ca-4240-86f1-ea0eff35c9fb",
   "metadata": {},
   "outputs": [],
   "source": [
    "class Car:\n",
    "    def __init__(self, make, model, year):\n",
    "        self.make = make\n",
    "        self.model = model\n",
    "        self.year = year\n",
    "\n",
    "    def display_info(self):\n",
    "        print(f\"Car Make: {self.make}, Model: {self.model}, Year: {self.year}\")\n",
    "\n",
    "# Example usage:\n",
    "my_car = Car(\"Toyota\", \"Corolla\", 2020)\n",
    "my_car.display_info()"
   ]
  },
  {
   "cell_type": "markdown",
   "id": "16a30a6d-0a9a-49c5-b4ac-2fd4bcb09bdc",
   "metadata": {},
   "source": [
    "## 3. Instance Methods vs Class Methods"
   ]
  },
  {
   "cell_type": "raw",
   "id": "d4c3b675-47be-4837-a7d4-bba63ed32082",
   "metadata": {},
   "source": [
    ". Instance Methods: Operate on an instance of the class and can access instance attributes. Defined with self as the first parameter.\n",
    "\n",
    "Example:"
   ]
  },
  {
   "cell_type": "code",
   "execution_count": null,
   "id": "8bd8f5bb-0c8c-4102-9ec8-483079c88ff8",
   "metadata": {},
   "outputs": [],
   "source": [
    "class Example:\n",
    "    def instance_method(self):\n",
    "        return \"This is an instance method.\""
   ]
  },
  {
   "cell_type": "raw",
   "id": "6380946d-a186-4146-826c-568e2b5e360d",
   "metadata": {},
   "source": [
    ". Class Methods: Operate on the class itself rather than instances, defined with @classmethod and cls as the first parameter.\n",
    "\n",
    "Example:"
   ]
  },
  {
   "cell_type": "code",
   "execution_count": null,
   "id": "d6eb19a2-d8f7-4d02-a361-96273eab98b7",
   "metadata": {},
   "outputs": [],
   "source": [
    "class Example:\n",
    "    @classmethod\n",
    "    def class_method(cls):\n",
    "        return \"This is a class method.\""
   ]
  },
  {
   "cell_type": "markdown",
   "id": "2974ef53-9078-4db6-9197-f597c55b0f51",
   "metadata": {},
   "source": [
    "## 4. Method Overloading in Python\n",
    "Python does not support method overloading in the traditional sense (like in Java or C++). However, you can achieve similar behavior using default arguments or variable-length arguments.\n",
    "\n",
    "Example:"
   ]
  },
  {
   "cell_type": "code",
   "execution_count": null,
   "id": "ae1c2eae-e9a3-4270-bac9-9a9586a0a115",
   "metadata": {},
   "outputs": [],
   "source": [
    "class Example:\n",
    "    def display(self, value=None):\n",
    "        if value is None:\n",
    "            print(\"No value provided.\")\n",
    "        else:\n",
    "            print(f\"Value: {value}\")\n",
    "\n",
    "# Usage:\n",
    "ex = Example()\n",
    "ex.display()  # No value provided.\n",
    "ex.display(10)  # Value: 10"
   ]
  },
  {
   "cell_type": "markdown",
   "id": "7d4b8ab4-57ec-4801-bc19-ce04664dab01",
   "metadata": {},
   "source": [
    "## 5. Access Modifiers in Python"
   ]
  },
  {
   "cell_type": "raw",
   "id": "6634097d-028d-4e8d-a0c3-f0edc5eddb59",
   "metadata": {},
   "source": [
    ". Public: Attributes or methods that are accessible from outside the class. Denoted by no leading underscore.\n",
    ". Protected: Attributes or methods intended to be accessible only within the class and its subclasses. Denoted by a   single leading underscore (e.g., _protected).\n",
    ". Private: Attributes or methods that are not accessible from outside the class. Denoted by double leading            underscores (e.g., __private)."
   ]
  },
  {
   "cell_type": "markdown",
   "id": "898de9fe-a2f2-44ce-9ed9-81a329dc4541",
   "metadata": {},
   "source": [
    "## 6. Types of Inheritance in Python"
   ]
  },
  {
   "cell_type": "raw",
   "id": "759735a5-8bd9-41ad-9c56-274fe0ce936e",
   "metadata": {},
   "source": [
    "1. Single Inheritance: A class inherits from one superclass.\n",
    "2. Multiple Inheritance: A class inherits from more than one superclass.\n",
    "3. Multilevel Inheritance: A class is derived from another class, which is also derived from another class.\n",
    "4. Hierarchical Inheritance: Multiple classes inherit from the same superclass.\n",
    "5. Hybrid Inheritance: A combination of two or more types of inheritance.\n",
    "   Example of Multiple Inheritance:"
   ]
  },
  {
   "cell_type": "code",
   "execution_count": null,
   "id": "fc09a2fc-5ae4-412b-b992-370ba6f9bbb1",
   "metadata": {},
   "outputs": [],
   "source": [
    "class Parent1:\n",
    "    def method1(self):\n",
    "        return \"Method from Parent1\"\n",
    "\n",
    "class Parent2:\n",
    "    def method2(self):\n",
    "        return \"Method from Parent2\"\n",
    "\n",
    "class Child(Parent1, Parent2):\n",
    "    pass\n",
    "\n",
    "child_instance = Child()\n",
    "print(child_instance.method1())  # Method from Parent1\n",
    "print(child_instance.method2())  # Method from Parent2"
   ]
  },
  {
   "cell_type": "markdown",
   "id": "1a0baf68-8bd4-4f6b-b277-d26d6d45a00b",
   "metadata": {},
   "source": [
    "## 7. Method Resolution Order (MRO)"
   ]
  },
  {
   "cell_type": "raw",
   "id": "b703155d-aa92-4833-892f-4250435ab045",
   "metadata": {},
   "source": [
    "The MRO determines the order in which classes are searched when calling a method. You can retrieve it using the __mro__ attribute or the mro() method.\n",
    "\n",
    "Example:"
   ]
  },
  {
   "cell_type": "code",
   "execution_count": null,
   "id": "c185256e-cabd-4cdd-9c3e-259faf75630a",
   "metadata": {},
   "outputs": [],
   "source": [
    "class A:\n",
    "    pass\n",
    "\n",
    "class B(A):\n",
    "    pass\n",
    "\n",
    "class C(A):\n",
    "    pass\n",
    "\n",
    "class D(B, C):\n",
    "    pass\n",
    "\n",
    "print(D.mro())  # Output: [<class '__main__.D'>, <class '__main__.B'>, <class '__main__.C'>, <class '__main__.A'>, <class 'object'>]"
   ]
  },
  {
   "cell_type": "markdown",
   "id": "e9a7d1b4-ad79-482c-81bc-f415b52ed01d",
   "metadata": {},
   "source": [
    "## 8. Abstract Base Class Shape"
   ]
  },
  {
   "cell_type": "code",
   "execution_count": null,
   "id": "d74a8e6d-cbb6-410c-8543-73fe3d38194f",
   "metadata": {},
   "outputs": [],
   "source": [
    "from abc import ABC, abstractmethod\n",
    "import math\n",
    "\n",
    "class Shape(ABC):\n",
    "    @abstractmethod\n",
    "    def area(self):\n",
    "        pass\n",
    "\n",
    "class Circle(Shape):\n",
    "    def __init__(self, radius):\n",
    "        self.radius = radius\n",
    "\n",
    "    def area(self):\n",
    "        return math.pi * self.radius ** 2\n",
    "\n",
    "class Rectangle(Shape):\n",
    "    def __init__(self, width, height):\n",
    "        self.width = width\n",
    "        self.height = height\n",
    "\n",
    "    def area(self):\n",
    "        return self.width * self.height\n",
    "\n",
    "# Example usage:\n",
    "circle = Circle(5)\n",
    "rectangle = Rectangle(4, 6)\n",
    "print(circle.area())  # Area of the circle\n",
    "print(rectangle.area())  # Area of the rectangle"
   ]
  },
  {
   "cell_type": "markdown",
   "id": "c0683220-c96b-4310-8da9-5c16f75b9e8d",
   "metadata": {},
   "source": [
    "## 9. Demonstrating Polymorphism"
   ]
  },
  {
   "cell_type": "code",
   "execution_count": null,
   "id": "bbaf7019-e603-4169-b9f9-3f572faf1b99",
   "metadata": {},
   "outputs": [],
   "source": [
    "def print_area(shape):\n",
    "    print(f\"Area: {shape.area()}\")\n",
    "\n",
    "shapes = [Circle(5), Rectangle(4, 6)]\n",
    "for shape in shapes:\n",
    "    print_area(shape)  # Calls the area method of each shape"
   ]
  },
  {
   "cell_type": "markdown",
   "id": "f2cfebf7-971e-47fc-83f2-177228db75e2",
   "metadata": {},
   "source": [
    "## 10. Implementing Encapsulation in BankAccount"
   ]
  },
  {
   "cell_type": "code",
   "execution_count": null,
   "id": "3a057123-988a-43b8-b73f-fb8e6bc51dd8",
   "metadata": {},
   "outputs": [],
   "source": [
    "class BankAccount:\n",
    "    def __init__(self, account_number, initial_balance):\n",
    "        self.__account_number = account_number\n",
    "        self.__balance = initial_balance\n",
    "\n",
    "    def deposit(self, amount):\n",
    "        if amount > 0:\n",
    "            self.__balance += amount\n",
    "            print(f\"Deposited: {amount}\")\n",
    "\n",
    "    def withdraw(self, amount):\n",
    "        if 0 < amount <= self.__balance:\n",
    "            self.__balance -= amount\n",
    "            print(f\"Withdrawn: {amount}\")\n",
    "        else:\n",
    "            print(\"Insufficient funds\")\n",
    "\n",
    "    def balance_inquiry(self):\n",
    "        return self.__balance\n",
    "\n",
    "# Example usage:\n",
    "account = BankAccount(\"123456\", 1000)\n",
    "account.deposit(500)\n",
    "account.withdraw(200)\n",
    "print(account.balance_inquiry())  # Displays the current balance"
   ]
  },
  {
   "cell_type": "markdown",
   "id": "cd3ac7da-33fd-4fa1-9e3c-e42b6b451b4d",
   "metadata": {},
   "source": [
    "## 11. Overriding __str__ and __add__"
   ]
  },
  {
   "cell_type": "code",
   "execution_count": null,
   "id": "0e0b0327-969f-4598-ad2b-908b4c235676",
   "metadata": {},
   "outputs": [],
   "source": [
    "class Point:\n",
    "    def __init__(self, x, y):\n",
    "        self.x = x\n",
    "        self.y = y\n",
    "\n",
    "    def __str__(self):\n",
    "        return f\"Point({self.x}, {self.y})\"\n",
    "\n",
    "    def __add__(self, other):\n",
    "        return Point(self.x + other.x, self.y + other.y)\n",
    "\n",
    "# Example usage:\n",
    "p1 = Point(1, 2)\n",
    "p2 = Point(3, 4)\n",
    "print(p1)  # Point(1, 2)\n",
    "p3 = p1 + p2\n",
    "print(p3)  # Point(4, 6)"
   ]
  },
  {
   "cell_type": "markdown",
   "id": "b6a9e841-c79b-41a4-926d-8b66605d53a9",
   "metadata": {},
   "source": [
    "## 12. Creating a Decorator for Execution Time"
   ]
  },
  {
   "cell_type": "code",
   "execution_count": null,
   "id": "6a61fe67-d6fd-430b-8bf6-e047f087f0e5",
   "metadata": {},
   "outputs": [],
   "source": [
    "import time\n",
    "\n",
    "def time_decorator(func):\n",
    "    def wrapper(*args, **kwargs):\n",
    "        start_time = time.time()\n",
    "        result = func(*args, **kwargs)\n",
    "        end_time = time.time()\n",
    "        print(f\"Execution time: {end_time - start_time:.4f} seconds\")\n",
    "        return result\n",
    "    return wrapper\n",
    "\n",
    "@time_decorator\n",
    "def example_function():\n",
    "    time.sleep(1)  # Simulating a time-consuming operation\n",
    "\n",
    "example_function()"
   ]
  },
  {
   "cell_type": "markdown",
   "id": "b2cc0d7d-dbc2-4b8c-a4c0-a34e2cf259a4",
   "metadata": {},
   "source": [
    "## 13. Diamond Problem in Multiple Inheritance"
   ]
  },
  {
   "cell_type": "raw",
   "id": "a48b5af9-1c6b-4486-8848-fef31ea842d8",
   "metadata": {},
   "source": [
    "The Diamond Problem occurs when a class inherits from two classes that have a common superclass, leading to ambiguity. Python resolves this using the C3 linearization algorithm, which ensures a consistent method resolution order."
   ]
  },
  {
   "cell_type": "markdown",
   "id": "514bab7d-8fbd-46fc-a7f2-6891a97f4e12",
   "metadata": {},
   "source": [
    "## 14. Class Method to Track Instances"
   ]
  },
  {
   "cell_type": "code",
   "execution_count": null,
   "id": "295b1e37-d381-4737-b9cf-8f2150781c2e",
   "metadata": {},
   "outputs": [],
   "source": [
    "class InstanceCounter:\n",
    "    count = 0\n",
    "\n",
    "    def __init__(self):\n",
    "        InstanceCounter.count += 1\n",
    "\n",
    "    @classmethod\n",
    "    def instance_count(cls):\n",
    "        return cls.count\n",
    "\n",
    "# Example usage:\n",
    "obj1 = InstanceCounter()\n",
    "obj2 = InstanceCounter()\n",
    "print(InstanceCounter.instance_count())  # Output: 2"
   ]
  },
  {
   "cell_type": "markdown",
   "id": "7d2f688b-b9b2-49dc-8620-a09751300c75",
   "metadata": {},
   "source": [
    "## 15. Static Method to Check Leap Year"
   ]
  },
  {
   "cell_type": "code",
   "execution_count": null,
   "id": "025ca622-2e6c-48f3-99a4-b97c2642d1fb",
   "metadata": {},
   "outputs": [],
   "source": [
    "class YearUtils:\n",
    "    @staticmethod\n",
    "    def is_leap_year(year):\n",
    "        return year % 4 == 0 and (year % 100 != 0 or year % 400 == 0)\n",
    "\n",
    "# Example usage:\n",
    "print(YearUtils.is_leap_year(2020))  # True\n",
    "print(YearUtils.is_leap_year(2021))  # False"
   ]
  }
 ],
 "metadata": {
  "kernelspec": {
   "display_name": "Python 3 (ipykernel)",
   "language": "python",
   "name": "python3"
  },
  "language_info": {
   "codemirror_mode": {
    "name": "ipython",
    "version": 3
   },
   "file_extension": ".py",
   "mimetype": "text/x-python",
   "name": "python",
   "nbconvert_exporter": "python",
   "pygments_lexer": "ipython3",
   "version": "3.12.5"
  }
 },
 "nbformat": 4,
 "nbformat_minor": 5
}
